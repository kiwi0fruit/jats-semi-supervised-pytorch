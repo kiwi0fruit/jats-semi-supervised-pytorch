{
  "cells": [
    {
      "cell_type": "markdown",
      "source": [
        "Databases are collected and cleaned from dublicates by Andrew Khizhnyak by 2022.05.15.\n",
        "\n",
        "# Raw database values meanings\n",
        "\n",
        "## 1-160 (SOLTI)\n",
        "\n",
        "Answers.\n",
        "\n",
        "| 1 | 2 | 3 | 4 | 5 |\n",
        "|---|---|---|---|---|\n",
        "| “NO”, this statement is exactly not about me | rather NO, than YES | I don’t know, very hard to estimate whether I agree | rather YES, than NO | “YES”, this statement is exactly about me |\n",
        "| твёрдое «НЕТ», не подходит | скорее НЕТ, чем ДА | не знаю, очень трудно оценить, моё это или нет | скорее ДА, чем НЕТ | твёрдое «ДА», вполне подходит и весьма характерно для меня |\n",
        "\n",
        "\n",
        "## sex\n",
        "\n",
        "Gender.\n",
        "\n",
        "| 0      | 1    |\n",
        "| ------ | ---- |\n",
        "| female | male |\n",
        "\n",
        "\n",
        "## age\n",
        "\n",
        "Age.\n",
        "\n",
        "| 1              | 2             | 3             | 4             | 5           |\n",
        "| -------------- | ------------- | ------------- | ------------- | ----------- |\n",
        "| under 20 years | 21 – 25 years | 26 – 30 years | 31 – 40 years | 41 and more |\n",
        "\n",
        "\n",
        "## education (SOLTI only)\n",
        "\n",
        "Education.\n",
        "\n",
        "| 1            | 2                         | 3           | 4                              | 5      |\n",
        "| ------------ | ------------------------- | ----------- | ------------------------------ | ------ |\n",
        "| No education | High school (student now) | High school | Higher education (student now) | Degree |\n",
        "| отсутствует  | получаю среднее           | среднее     | получаю высшее                 | высшее |\n",
        "\n",
        "\n",
        "## self / diagnosis\n",
        "\n",
        "My own version of my Socionics type / Talanov test diagnosis.\n",
        "\n",
        "|  empty string  |  1  |  2  |  3  |  4  |  5  |  6  |  7  |  8  |  9  | 10  | 11  | 12  | 13  | 14  | 15  | 16  |\n",
        "| -------------- | --- | --- | --- | --- | --- | --- | --- | --- | --- | --- | --- | --- | --- | --- | --- | --- |\n",
        "| I don't know   | ILE | LII | SEI | ESE | SLE | LSI | IEI | EIE | SEE | ESI | ILI | LIE | IEE | EII | SLI | LSE |\n",
        "| Тип неизвестен | ИЛЭ | ЛИИ | СЭИ | ЭСЭ | СЛЭ | ЛСИ | ИЭИ | ЭИЭ | СЭЭ | ЭСИ | ИЛИ | ЛИЭ | ИЭЭ | ЭИИ | СЛИ | ЛСЭ |\n"
      ],
      "metadata": {
        "collapsed": false,
        "outputHidden": false,
        "inputHidden": false
      }
    }
  ],
  "metadata": {
    "kernel_info": {
      "name": "python3"
    },
    "language_info": {
      "name": "python",
      "version": "3.7.2",
      "mimetype": "text/x-python",
      "codemirror_mode": {
        "name": "ipython",
        "version": 3
      },
      "pygments_lexer": "ipython3",
      "nbconvert_exporter": "python",
      "file_extension": ".py"
    },
    "kernelspec": {
      "name": "python3",
      "language": "python",
      "display_name": "Python 3"
    },
    "nteract": {
      "version": "0.28.0"
    }
  },
  "nbformat": 4,
  "nbformat_minor": 4
}